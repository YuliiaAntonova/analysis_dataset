{
 "cells": [
  {
   "cell_type": "code",
   "execution_count": 1,
   "id": "3307b886",
   "metadata": {},
   "outputs": [
    {
     "name": "stderr",
     "output_type": "stream",
     "text": [
      "Setting default log level to \"WARN\".\n",
      "To adjust logging level use sc.setLogLevel(newLevel). For SparkR, use setLogLevel(newLevel).\n"
     ]
    },
    {
     "name": "stdout",
     "output_type": "stream",
     "text": [
      "23/05/24 18:40:35 WARN NativeCodeLoader: Unable to load native-hadoop library for your platform... using builtin-java classes where applicable\n"
     ]
    }
   ],
   "source": [
    "import pyspark\n",
    "from pyspark.sql import SparkSession\n",
    "import os\n",
    "import numpy as np\n",
    "import xgboost as xgb\n",
    "\n",
    "import matplotlib.pyplot as plt\n",
    "\n",
    "from sklearn.metrics import mean_squared_error\n",
    "\n",
    "from pyspark import SparkConf, SparkContext\n",
    "\n",
    "from pyspark.sql import SparkSession, SQLContext\n",
    "from pyspark.sql.types import *\n",
    "import pyspark.sql.functions as f\n",
    "from pyspark.sql.functions import udf, col, lit, col,isnan, when, count\n",
    "\n",
    "from pyspark.mllib.util import MLUtils\n",
    "from pyspark.mllib.regression import LabeledPoint\n",
    "from pyspark.ml.feature import StringIndexer\n",
    "\n",
    "spark = SparkSession.builder \\\n",
    "    .master(\"spark://de-data.us-west4-b.c.dtc-de-379809.internal:7077\") \\\n",
    "    .appName('test') \\\n",
    "    .getOrCreate()"
   ]
  },
  {
   "cell_type": "code",
   "execution_count": 2,
   "id": "89ed698e",
   "metadata": {},
   "outputs": [
    {
     "name": "stdout",
     "output_type": "stream",
     "text": [
      "Requirement already satisfied: xgboost in /home/yuliia/anaconda3/lib/python3.10/site-packages (1.7.5)\n",
      "Requirement already satisfied: scipy in /home/yuliia/anaconda3/lib/python3.10/site-packages (from xgboost) (1.10.0)\n",
      "Requirement already satisfied: numpy in /home/yuliia/anaconda3/lib/python3.10/site-packages (from xgboost) (1.23.5)\n"
     ]
    }
   ],
   "source": [
    "!pip install xgboost"
   ]
  },
  {
   "cell_type": "code",
   "execution_count": 3,
   "id": "51ad024a",
   "metadata": {},
   "outputs": [
    {
     "data": {
      "text/html": [
       "\n",
       "            <div>\n",
       "                <p><b>SparkSession - in-memory</b></p>\n",
       "                \n",
       "        <div>\n",
       "            <p><b>SparkContext</b></p>\n",
       "\n",
       "            <p><a href=\"http://de-data.us-west4-b.c.dtc-de-379809.internal:4040\">Spark UI</a></p>\n",
       "\n",
       "            <dl>\n",
       "              <dt>Version</dt>\n",
       "                <dd><code>v3.3.2</code></dd>\n",
       "              <dt>Master</dt>\n",
       "                <dd><code>spark://de-data.us-west4-b.c.dtc-de-379809.internal:7077</code></dd>\n",
       "              <dt>AppName</dt>\n",
       "                <dd><code>test</code></dd>\n",
       "            </dl>\n",
       "        </div>\n",
       "        \n",
       "            </div>\n",
       "        "
      ],
      "text/plain": [
       "<pyspark.sql.session.SparkSession at 0x7f270bfe19f0>"
      ]
     },
     "execution_count": 3,
     "metadata": {},
     "output_type": "execute_result"
    }
   ],
   "source": [
    "spark"
   ]
  },
  {
   "cell_type": "code",
   "execution_count": 4,
   "id": "1ee1eb1d",
   "metadata": {},
   "outputs": [
    {
     "name": "stderr",
     "output_type": "stream",
     "text": [
      "                                                                                \r"
     ]
    }
   ],
   "source": [
    "df_green = spark.read.parquet('2019_2023_rankings.parquet')"
   ]
  },
  {
   "cell_type": "code",
   "execution_count": null,
   "id": "ce86f83e",
   "metadata": {},
   "outputs": [],
   "source": [
    "# List of top 10 universities (from actual data)\n",
    "# List of top 10 universities (from your model's prediction)\n",
    "# List of worst 10 universities (from actual data)\n",
    "# List of worst 10 universities (from your model's prediction)\n",
    "# Average rank of universities from each country\n",
    "# Best university in each country\n",
    "# Worst university in each country"
   ]
  },
  {
   "cell_type": "code",
   "execution_count": 7,
   "id": "da11b07c",
   "metadata": {},
   "outputs": [
    {
     "name": "stderr",
     "output_type": "stream",
     "text": [
      "[Stage 1:>                                                          (0 + 1) / 1]\r"
     ]
    },
    {
     "name": "stdout",
     "output_type": "stream",
     "text": [
      "+----------------------------------------+---------+---------+\n",
      "|name                                    |max(rank)|min(rank)|\n",
      "+----------------------------------------+---------+---------+\n",
      "|AECC University College                 |Reporter |Reporter |\n",
      "|AGH University of Science and Technology|801–1000 |1001+    |\n",
      "|AKFA University                         |Reporter |Reporter |\n",
      "|Aalborg University                      |251–300  |194      |\n",
      "|Aalto University                        |201–250  |181      |\n",
      "|Aarhus University                       |123      |104      |\n",
      "|Abdelmalek Essaâdi University           |1201–1500|1201–1500|\n",
      "|Abdul Wali Khan University Mardan       |601–800  |501–600  |\n",
      "|Abdullah Gül University                 |Reporter |Reporter |\n",
      "|Abertay University                      |Reporter |Reporter |\n",
      "|Aberystwyth University                  |501–600  |351–400  |\n",
      "|Abu Dhabi University                    |301–350  |301–350  |\n",
      "|Academy of Economic Studies of Moldova  |Reporter |Reporter |\n",
      "|Acharya Nagarjuna University            |801–1000 |1001+    |\n",
      "|Acıbadem University                     |1201–1500|1001+    |\n",
      "|Ada Kent University                     |Reporter |Reporter |\n",
      "|Adam Mickiewicz University, Poznań      |801–1000 |1001+    |\n",
      "|Adamawa State University, Mubi          |Reporter |Reporter |\n",
      "|Addis Ababa University                  |601–800  |401–500  |\n",
      "|Adelphi University                      |Reporter |Reporter |\n",
      "+----------------------------------------+---------+---------+\n",
      "only showing top 20 rows\n",
      "\n"
     ]
    },
    {
     "name": "stderr",
     "output_type": "stream",
     "text": [
      "                                                                                \r"
     ]
    }
   ],
   "source": [
    "df_green.groupBy(\"name\").agg(f.max(col(\"rank\")), f.min(\"rank\")).show(truncate=False)"
   ]
  },
  {
   "cell_type": "code",
   "execution_count": 8,
   "id": "4ff79320",
   "metadata": {},
   "outputs": [
    {
     "name": "stdout",
     "output_type": "stream",
     "text": [
      "+----+----------------+-------+\n",
      "|year|name            |rank   |\n",
      "+----+----------------+-------+\n",
      "|2023|Aalto University|201–250|\n",
      "|2022|Aalto University|201–250|\n",
      "|2021|Aalto University|201–250|\n",
      "|2020|Aalto University|184    |\n",
      "|2019|Aalto University|181    |\n",
      "+----+----------------+-------+\n",
      "\n"
     ]
    }
   ],
   "source": [
    "df_green.select(\"year\", \"name\", col(\"rank\")).filter(col(\"name\")==\"Aalto University\").show(truncate=False)"
   ]
  },
  {
   "cell_type": "code",
   "execution_count": 9,
   "id": "b87a90c5",
   "metadata": {},
   "outputs": [],
   "source": [
    "ranking_df_clean = (df_green.withColumn(\"rank\", f.split(col(\"rank\"), '[–=]'))\n",
    "                    .withColumn(\"scores_overall\", f.split(col(\"scores_overall\"), '[—–]'))\n",
    "                   )"
   ]
  },
  {
   "cell_type": "code",
   "execution_count": 11,
   "id": "89c900e7",
   "metadata": {},
   "outputs": [],
   "source": [
    "ranking_df_clean = (ranking_df_clean\n",
    "                    .withColumn(\"min_rank\", col(\"rank\").getItem(0).cast(\"int\"))\n",
    "                    .withColumn(\"max_rank\", col(\"rank\").getItem(1).cast(\"int\"))\n",
    "                    # if min_rank or max_rank is null, then copy the other value to the null column (min_rank = max_rank)\n",
    "                    .withColumn(\"min_rank\", f.when(col(\"min_rank\").isNull(), col(\"max_rank\")).otherwise(col(\"min_rank\")))\n",
    "                    .withColumn(\"max_rank\", f.when(col(\"max_rank\").isNull(), col(\"min_rank\")).otherwise(col(\"max_rank\")))\n",
    "                    # repeat the same pattern for scores_overall column\n",
    "                    .withColumn(\"min_scores_overall\", col(\"scores_overall\").getItem(0).cast(\"float\"))\n",
    "                    .withColumn(\"max_scores_overall\", col(\"scores_overall\").getItem(1).cast(\"float\"))\n",
    "                    .withColumn(\"min_scores_overall\", f.when(col(\"min_scores_overall\").isNull(), col(\"max_scores_overall\")).otherwise(col(\"min_scores_overall\")))\n",
    "                    .withColumn(\"max_scores_overall\", f.when(col(\"max_scores_overall\").isNull(), col(\"min_scores_overall\")).otherwise(col(\"max_scores_overall\")))\n",
    "                    .drop(\"rank\", \"scores_overall\")\n",
    "                   )"
   ]
  },
  {
   "cell_type": "code",
   "execution_count": 13,
   "id": "b4d3d4a1",
   "metadata": {},
   "outputs": [
    {
     "name": "stdout",
     "output_type": "stream",
     "text": [
      "23/05/24 18:45:43 WARN package: Truncated the string representation of a plan since it was too large. This behavior can be adjusted by setting 'spark.sql.debug.maxToStringFields'.\n",
      "+----------+--------------------+-------------------+---------------+--------------------+---------------+--------------------+----------------+---------------------+----------------------+---------------------------+----------------------------+---------------------------------+--------------+---------------------+-------------------------+----------------------+-----------------------+--------------------+--------------------+------+------------+----+-----------------+--------+--------+------------------+------------------+\n",
      "|rank_order|                name|scores_overall_rank|scores_teaching|scores_teaching_rank|scores_research|scores_research_rank|scores_citations|scores_citations_rank|scores_industry_income|scores_industry_income_rank|scores_international_outlook|scores_international_outlook_rank|      location|stats_number_students|stats_student_staff_ratio|stats_pc_intl_students|stats_female_male_ratio|             aliases|    subjects_offered|closed|unaccredited|year|__index_level_0__|min_rank|max_rank|min_scores_overall|max_scores_overall|\n",
      "+----------+--------------------+-------------------+---------------+--------------------+---------------+--------------------+----------------+---------------------+----------------------+---------------------------+----------------------------+---------------------------------+--------------+---------------------+-------------------------+----------------------+-----------------------+--------------------+--------------------+------+------------+----+-----------------+--------+--------+------------------+------------------+\n",
      "|        10|University of Oxford|                 10|           92.3|                   5|           99.7|                   1|            99.0|                   28|                  74.9|                        158|                        96.2|                               28|United Kingdom|               20,965|                     10.6|                   42%|                48 : 52|University of Oxford|Accounting & Fina...| false|       false|2023|                0|       1|       1|              96.4|              96.4|\n",
      "+----------+--------------------+-------------------+---------------+--------------------+---------------+--------------------+----------------+---------------------+----------------------+---------------------------+----------------------------+---------------------------------+--------------+---------------------+-------------------------+----------------------+-----------------------+--------------------+--------------------+------+------------+----+-----------------+--------+--------+------------------+------------------+\n",
      "\n"
     ]
    }
   ],
   "source": [
    "ranking_df_clean.limit(1).show()"
   ]
  },
  {
   "cell_type": "code",
   "execution_count": 14,
   "id": "a880acaf",
   "metadata": {},
   "outputs": [
    {
     "name": "stdout",
     "output_type": "stream",
     "text": [
      "root\n",
      " |-- rank_order: long (nullable = true)\n",
      " |-- name: string (nullable = true)\n",
      " |-- scores_overall_rank: long (nullable = true)\n",
      " |-- scores_teaching: double (nullable = true)\n",
      " |-- scores_teaching_rank: long (nullable = true)\n",
      " |-- scores_research: double (nullable = true)\n",
      " |-- scores_research_rank: long (nullable = true)\n",
      " |-- scores_citations: double (nullable = true)\n",
      " |-- scores_citations_rank: long (nullable = true)\n",
      " |-- scores_industry_income: double (nullable = true)\n",
      " |-- scores_industry_income_rank: long (nullable = true)\n",
      " |-- scores_international_outlook: double (nullable = true)\n",
      " |-- scores_international_outlook_rank: long (nullable = true)\n",
      " |-- location: string (nullable = true)\n",
      " |-- stats_number_students: string (nullable = true)\n",
      " |-- stats_student_staff_ratio: double (nullable = true)\n",
      " |-- stats_pc_intl_students: string (nullable = true)\n",
      " |-- stats_female_male_ratio: string (nullable = true)\n",
      " |-- aliases: string (nullable = true)\n",
      " |-- subjects_offered: string (nullable = true)\n",
      " |-- closed: boolean (nullable = true)\n",
      " |-- unaccredited: boolean (nullable = true)\n",
      " |-- year: long (nullable = true)\n",
      " |-- __index_level_0__: long (nullable = true)\n",
      " |-- min_rank: integer (nullable = true)\n",
      " |-- max_rank: integer (nullable = true)\n",
      " |-- min_scores_overall: float (nullable = true)\n",
      " |-- max_scores_overall: float (nullable = true)\n",
      "\n"
     ]
    }
   ],
   "source": [
    "ranking_df_clean.printSchema()"
   ]
  },
  {
   "cell_type": "code",
   "execution_count": 15,
   "id": "29884a1e",
   "metadata": {},
   "outputs": [
    {
     "name": "stdout",
     "output_type": "stream",
     "text": [
      "+---------------------+\n",
      "|stats_number_students|\n",
      "+---------------------+\n",
      "|                 8527|\n",
      "+---------------------+\n",
      "\n",
      "+----------------------+\n",
      "|stats_pc_intl_students|\n",
      "+----------------------+\n",
      "|                  8638|\n",
      "+----------------------+\n",
      "\n",
      "+-----------------------+\n",
      "|stats_female_male_ratio|\n",
      "+-----------------------+\n",
      "|                   8638|\n",
      "+-----------------------+\n",
      "\n"
     ]
    }
   ],
   "source": [
    "columns_list = [\"stats_number_students\", \"stats_pc_intl_students\" ,\"stats_female_male_ratio\" ]\n",
    "\n",
    "for c in columns_list:\n",
    "    ranking_df_clean.select(col(c).cast(\"float\").alias(c)).select([count(when(isnan(c) | col(c).isNull(), c)).alias(c)]).show()"
   ]
  },
  {
   "cell_type": "code",
   "execution_count": 16,
   "id": "1cec0373",
   "metadata": {},
   "outputs": [],
   "source": [
    "ranking_df_clean = (ranking_df_clean\n",
    "                    # we need to replace the commas here with dots to make this column castable to float\n",
    "                    .withColumn(\"stats_number_students\", f.regexp_replace(col(\"stats_number_students\"),',', '.').cast(\"float\"))\n",
    "                    # we need to remove the percentage sign(%) from this column\n",
    "                    .withColumn(\"stats_pc_intl_students\", f.split(col(\"stats_pc_intl_students\"),\"%\").getItem(0).cast(\"float\"))\n",
    "                    # map 48:52 type of ratio to a number between 0 and 1\n",
    "                    .withColumn(\"stats_female_male_ratio\", f.split(col(\"stats_female_male_ratio\"),\":\").getItem(0).cast(\"int\")/f.split(col(\"stats_female_male_ratio\"),\":\").getItem(1).cast(\"int\"))\n",
    "                   )"
   ]
  },
  {
   "cell_type": "code",
   "execution_count": 21,
   "id": "b2d09dd4",
   "metadata": {},
   "outputs": [],
   "source": [
    "list_of_float_cols = [\"min_rank\", \"max_rank\", \"min_scores_overall\", \"max_scores_overall\", \"scores_teaching\", \"scores_research\", \"scores_citations\", \"scores_industry_income\", \"scores_international_outlook\"]\n",
    "for col_name in list_of_float_cols:\n",
    "    ranking_df_clean = ranking_df_clean.withColumn(col_name, col(col_name).cast(\"float\"))"
   ]
  },
  {
   "cell_type": "code",
   "execution_count": 23,
   "id": "8570b24b",
   "metadata": {},
   "outputs": [
    {
     "name": "stderr",
     "output_type": "stream",
     "text": [
      "                                                                                \r"
     ]
    }
   ],
   "source": [
    "name_indexer = StringIndexer(inputCol='name', outputCol='university_id')\n",
    "ranking_df_clean = name_indexer.fit(ranking_df_clean).transform(ranking_df_clean)"
   ]
  },
  {
   "cell_type": "code",
   "execution_count": 24,
   "id": "39542298",
   "metadata": {},
   "outputs": [],
   "source": [
    "name_to_index_df = ranking_df_clean.select(\"name\",\"university_id\").distinct()\n",
    "ranking_df_clean = ranking_df_clean.drop(\"name\")"
   ]
  },
  {
   "cell_type": "code",
   "execution_count": 25,
   "id": "06a2c29f",
   "metadata": {},
   "outputs": [],
   "source": [
    "location_indexer = StringIndexer(inputCol='location', outputCol='location_id')\n",
    "ranking_df_clean = location_indexer.fit(ranking_df_clean).transform(ranking_df_clean)"
   ]
  },
  {
   "cell_type": "code",
   "execution_count": 26,
   "id": "368c8312",
   "metadata": {},
   "outputs": [],
   "source": [
    "location_to_index_df = ranking_df_clean.select(\"location\",\"location_id\",\"university_id\").distinct()\n",
    "ranking_df_clean = ranking_df_clean.drop(\"location\").drop(\"aliases\").drop(\"subjects_offered\")"
   ]
  },
  {
   "cell_type": "code",
   "execution_count": 27,
   "id": "4c7bfce8",
   "metadata": {},
   "outputs": [],
   "source": [
    "ranking_df_clean = (ranking_df_clean\n",
    "                    .withColumn(\"unaccredited\", f.when(col('unaccredited') == \"True\", 1).otherwise(0).cast(\"boolean\"))\n",
    "                    .withColumn(\"closed\", f.when(col('closed') == \"True\", 1).otherwise(0).cast(\"boolean\"))\n",
    "                   )"
   ]
  },
  {
   "cell_type": "code",
   "execution_count": 28,
   "id": "dde2fe03",
   "metadata": {},
   "outputs": [
    {
     "name": "stdout",
     "output_type": "stream",
     "text": [
      "+---------------+--------------------+\n",
      "|scores_research|scores_research_rank|\n",
      "+---------------+--------------------+\n",
      "|           58.2|                  91|\n",
      "|           57.8|                  91|\n",
      "|           57.0|                  91|\n",
      "|           56.1|                  91|\n",
      "|           54.1|                  91|\n",
      "|           58.2|                  92|\n",
      "|           57.5|                  92|\n",
      "|           56.6|                  92|\n",
      "|           55.6|                  92|\n",
      "|           54.1|                  92|\n",
      "|           58.2|                  93|\n",
      "|           56.9|                  93|\n",
      "|           56.4|                  93|\n",
      "|           55.6|                  93|\n",
      "|           53.7|                  93|\n",
      "|           58.0|                  94|\n",
      "|           56.8|                  94|\n",
      "|           56.4|                  94|\n",
      "|           55.5|                  94|\n",
      "|           53.6|                  94|\n",
      "+---------------+--------------------+\n",
      "only showing top 20 rows\n",
      "\n"
     ]
    }
   ],
   "source": [
    "ranking_df_clean.select(\"scores_research\", \"scores_research_rank\").filter(col(\"scores_research_rank\")>90).orderBy(\"scores_research_rank\").limit(100).show()"
   ]
  },
  {
   "cell_type": "code",
   "execution_count": 29,
   "id": "0e654963",
   "metadata": {},
   "outputs": [],
   "source": [
    "list_of_drop_cols = [\"min_scores_overall\", \"max_scores_overall\", \"rank_order\", \"scores_overall_rank\", \n",
    "                     \"scores_teaching_rank\", \"scores_research_rank\", \"scores_citations_rank\", \n",
    "                     \"scores_industry_income_rank\", \"scores_international_outlook_rank\",\n",
    "                     \"stats_number_students\", \"stats_student_staff_ratio\", \"stats_pc_intl_students\",\n",
    "                     \"stats_female_male_ratio\"]\n",
    "ranking_df_clean = ranking_df_clean.drop(*list_of_drop_cols)"
   ]
  },
  {
   "cell_type": "code",
   "execution_count": 30,
   "id": "951b087a",
   "metadata": {},
   "outputs": [
    {
     "name": "stdout",
     "output_type": "stream",
     "text": [
      "root\n",
      " |-- scores_teaching: float (nullable = true)\n",
      " |-- scores_research: float (nullable = true)\n",
      " |-- scores_citations: float (nullable = true)\n",
      " |-- scores_industry_income: float (nullable = true)\n",
      " |-- scores_international_outlook: float (nullable = true)\n",
      " |-- closed: boolean (nullable = false)\n",
      " |-- unaccredited: boolean (nullable = false)\n",
      " |-- year: long (nullable = true)\n",
      " |-- __index_level_0__: long (nullable = true)\n",
      " |-- min_rank: float (nullable = true)\n",
      " |-- max_rank: float (nullable = true)\n",
      " |-- university_id: double (nullable = false)\n",
      " |-- location_id: double (nullable = false)\n",
      "\n"
     ]
    }
   ],
   "source": [
    "ranking_df_clean.printSchema()"
   ]
  },
  {
   "cell_type": "code",
   "execution_count": 31,
   "id": "bdf8bb70",
   "metadata": {},
   "outputs": [],
   "source": [
    "ranking_df_clean = ranking_df_clean.dropna(subset = [\"min_rank\"])"
   ]
  },
  {
   "cell_type": "code",
   "execution_count": 32,
   "id": "3d1ca9d2",
   "metadata": {},
   "outputs": [],
   "source": [
    "ranking_df_clean = ranking_df_clean.select(*[\n",
    " 'scores_teaching',\n",
    " 'scores_research',\n",
    " 'scores_citations',\n",
    " 'scores_industry_income',\n",
    " 'scores_international_outlook',\n",
    " 'closed',\n",
    " 'unaccredited',\n",
    " 'year',\n",
    " 'university_id',\n",
    " 'location_id',\n",
    " 'min_rank',\n",
    "])"
   ]
  },
  {
   "cell_type": "code",
   "execution_count": 33,
   "id": "f9567f8b",
   "metadata": {},
   "outputs": [
    {
     "name": "stdout",
     "output_type": "stream",
     "text": [
      "root\n",
      " |-- scores_teaching: float (nullable = true)\n",
      " |-- scores_research: float (nullable = true)\n",
      " |-- scores_citations: float (nullable = true)\n",
      " |-- scores_industry_income: float (nullable = true)\n",
      " |-- scores_international_outlook: float (nullable = true)\n",
      " |-- closed: boolean (nullable = false)\n",
      " |-- unaccredited: boolean (nullable = false)\n",
      " |-- year: long (nullable = true)\n",
      " |-- university_id: double (nullable = false)\n",
      " |-- location_id: double (nullable = false)\n",
      " |-- min_rank: float (nullable = true)\n",
      "\n"
     ]
    }
   ],
   "source": [
    "ranking_df_clean.printSchema()"
   ]
  },
  {
   "cell_type": "code",
   "execution_count": 34,
   "id": "cc116e59",
   "metadata": {},
   "outputs": [
    {
     "name": "stdout",
     "output_type": "stream",
     "text": [
      "Number of rows in train_df: 4203\n",
      "Number of rows in test_df: 1509\n"
     ]
    }
   ],
   "source": [
    "train_df = ranking_df_clean.na.fill(0).filter(col(\"year\") < 2023)\n",
    "test_df = ranking_df_clean.na.fill(0).filter(col(\"year\") == 2023)\n",
    "\n",
    "# Show the number of rows in each set\n",
    "print(f\"Number of rows in train_df: {train_df.count()}\")\n",
    "print(f\"Number of rows in test_df: {test_df.count()}\")"
   ]
  },
  {
   "cell_type": "code",
   "execution_count": 35,
   "id": "0b38cab8",
   "metadata": {},
   "outputs": [
    {
     "name": "stderr",
     "output_type": "stream",
     "text": [
      "                                                                                \r"
     ]
    },
    {
     "data": {
      "text/plain": [
       "[LabeledPoint(1.0, [91.0,99.5999984741211,98.0,74.4000015258789,96.30000305175781,0.0,0.0,2022.0,964.0,2.0])]"
      ]
     },
     "execution_count": 35,
     "metadata": {},
     "output_type": "execute_result"
    }
   ],
   "source": [
    "d_train = train_df.rdd.map(lambda line: LabeledPoint(line[10],line[:-1]))\n",
    "d_train.take(1) "
   ]
  },
  {
   "cell_type": "code",
   "execution_count": 36,
   "id": "ee21361e",
   "metadata": {},
   "outputs": [
    {
     "name": "stderr",
     "output_type": "stream",
     "text": [
      "                                                                                \r"
     ]
    },
    {
     "data": {
      "text/plain": [
       "[LabeledPoint(1.0, [92.30000305175781,99.69999694824219,99.0,74.9000015258789,96.19999694824219,0.0,0.0,2023.0,964.0,2.0])]"
      ]
     },
     "execution_count": 36,
     "metadata": {},
     "output_type": "execute_result"
    }
   ],
   "source": [
    "d_test = test_df.rdd.map(lambda line: LabeledPoint(line[10],line[:-1]))\n",
    "d_test.take(1) "
   ]
  }
 ],
 "metadata": {
  "kernelspec": {
   "display_name": "Python 3 (ipykernel)",
   "language": "python",
   "name": "python3"
  },
  "language_info": {
   "codemirror_mode": {
    "name": "ipython",
    "version": 3
   },
   "file_extension": ".py",
   "mimetype": "text/x-python",
   "name": "python",
   "nbconvert_exporter": "python",
   "pygments_lexer": "ipython3",
   "version": "3.10.9"
  }
 },
 "nbformat": 4,
 "nbformat_minor": 5
}
